{
 "cells": [
  {
   "attachments": {},
   "cell_type": "markdown",
   "metadata": {},
   "source": [
    "# Assignment 6"
   ]
  },
  {
   "attachments": {},
   "cell_type": "markdown",
   "metadata": {},
   "source": [
    "## Try to submit as an HTML file"
   ]
  },
  {
   "attachments": {},
   "cell_type": "markdown",
   "metadata": {},
   "source": [
    "<font size = \"5\">\n",
    "Print your name below"
   ]
  },
  {
   "cell_type": "code",
   "execution_count": 3,
   "metadata": {},
   "outputs": [
    {
     "name": "stdout",
     "output_type": "stream",
     "text": [
      "Riyan Shah\n"
     ]
    }
   ],
   "source": [
    "print(\"Riyan Shah\")"
   ]
  },
  {
   "attachments": {},
   "cell_type": "markdown",
   "metadata": {},
   "source": [
    "<font size = \"5\">\n",
    "\n",
    "Import the \"pandas\" and \"matplotlib.pyplot\" library"
   ]
  },
  {
   "cell_type": "code",
   "execution_count": 4,
   "metadata": {},
   "outputs": [],
   "source": [
    "# Write your answer here:\n",
    "import pandas as pd\n",
    "import matplotlib.pyplot as plt"
   ]
  },
  {
   "attachments": {},
   "cell_type": "markdown",
   "metadata": {},
   "source": [
    "<font size = \"5\">\n",
    "\n",
    "(a) Compute function for each individual (map)\n",
    "\n",
    "<font size = \"3\">\n",
    "\n",
    "- Import the datset \"data/investment.csv\"\n",
    "- Write a lambda function for $V = P/(1+r)$.\n",
    "- Use ```list(map(...))``` to calculate $V$ for each row of the dataset\n"
   ]
  },
  {
   "cell_type": "code",
   "execution_count": 5,
   "metadata": {},
   "outputs": [
    {
     "name": "stdout",
     "output_type": "stream",
     "text": [
      "[990.09900990099, 1960.7843137254902, 485.43689320388347, 769.2307692307692, 370.3703703703703]\n"
     ]
    }
   ],
   "source": [
    "# Write your own code here\n",
    "invest = pd.read_csv('data/investment.csv')\n",
    "V = lambda P, r : P/(1+r)\n",
    "answer = list(map(V,invest['P'],invest['r']))\n",
    "print(answer)"
   ]
  },
  {
   "attachments": {},
   "cell_type": "markdown",
   "metadata": {},
   "source": [
    "<font size = \"5\">\n",
    "For questions (b)-(d), read \"data/wdi_2020.csv\" "
   ]
  },
  {
   "attachments": {},
   "cell_type": "markdown",
   "metadata": {},
   "source": [
    "<font size = \"5\">\n",
    "\n",
    "(b) Convert to upper case\n",
    "\n",
    "<font size = \"3\">\n",
    "\n",
    "- Create the following function to convert a string to upper case\n",
    "\n",
    "$\\quad$ ``` fn_upper = lambda x: x.upper() ```\n",
    "\n",
    "- Create a new column, \"countryname_upper\"  <br>\n",
    "that converts \"countryname\" to upper case."
   ]
  },
  {
   "cell_type": "code",
   "execution_count": 6,
   "metadata": {},
   "outputs": [],
   "source": [
    "# Write your own code here\n",
    "wdi2020 = pd.read_csv('data/wdi_2020.csv')\n",
    "fn_upper = lambda x: x.upper()\n",
    "wdi2020['countryname_upper'] = list(map(fn_upper,wdi2020['countryname']))"
   ]
  },
  {
   "attachments": {},
   "cell_type": "markdown",
   "metadata": {},
   "source": [
    "<font size = \"5\">\n",
    "\n",
    "(c) Extract sorted elements from a dataset\n",
    "\n",
    "<font size = \"3\">\n",
    "\n",
    "- Sort by \"prop_urbanpopulation\" in descending order\n",
    "- Subset the 5 countries with the highest urban population"
   ]
  },
  {
   "cell_type": "code",
   "execution_count": 11,
   "metadata": {},
   "outputs": [
    {
     "data": {
      "text/html": [
       "<div>\n",
       "<style scoped>\n",
       "    .dataframe tbody tr th:only-of-type {\n",
       "        vertical-align: middle;\n",
       "    }\n",
       "\n",
       "    .dataframe tbody tr th {\n",
       "        vertical-align: top;\n",
       "    }\n",
       "\n",
       "    .dataframe thead th {\n",
       "        text-align: right;\n",
       "    }\n",
       "</style>\n",
       "<table border=\"1\" class=\"dataframe\">\n",
       "  <thead>\n",
       "    <tr style=\"text-align: right;\">\n",
       "      <th></th>\n",
       "      <th>year</th>\n",
       "      <th>yearcode</th>\n",
       "      <th>countryname</th>\n",
       "      <th>countrycode</th>\n",
       "      <th>prop_urbanpopulation</th>\n",
       "      <th>countryname_upper</th>\n",
       "    </tr>\n",
       "  </thead>\n",
       "  <tbody>\n",
       "    <tr>\n",
       "      <th>212</th>\n",
       "      <td>2020</td>\n",
       "      <td>YR2020</td>\n",
       "      <td>Singapore</td>\n",
       "      <td>SGP</td>\n",
       "      <td>100.0</td>\n",
       "      <td>SINGAPORE</td>\n",
       "    </tr>\n",
       "    <tr>\n",
       "      <th>147</th>\n",
       "      <td>2020</td>\n",
       "      <td>YR2020</td>\n",
       "      <td>Macao SAR, China</td>\n",
       "      <td>MAC</td>\n",
       "      <td>100.0</td>\n",
       "      <td>MACAO SAR, CHINA</td>\n",
       "    </tr>\n",
       "    <tr>\n",
       "      <th>40</th>\n",
       "      <td>2020</td>\n",
       "      <td>YR2020</td>\n",
       "      <td>Cayman Islands</td>\n",
       "      <td>CYM</td>\n",
       "      <td>100.0</td>\n",
       "      <td>CAYMAN ISLANDS</td>\n",
       "    </tr>\n",
       "    <tr>\n",
       "      <th>90</th>\n",
       "      <td>2020</td>\n",
       "      <td>YR2020</td>\n",
       "      <td>Gibraltar</td>\n",
       "      <td>GIB</td>\n",
       "      <td>100.0</td>\n",
       "      <td>GIBRALTAR</td>\n",
       "    </tr>\n",
       "    <tr>\n",
       "      <th>103</th>\n",
       "      <td>2020</td>\n",
       "      <td>YR2020</td>\n",
       "      <td>Hong Kong SAR, China</td>\n",
       "      <td>HKG</td>\n",
       "      <td>100.0</td>\n",
       "      <td>HONG KONG SAR, CHINA</td>\n",
       "    </tr>\n",
       "  </tbody>\n",
       "</table>\n",
       "</div>"
      ],
      "text/plain": [
       "     year yearcode           countryname countrycode  prop_urbanpopulation  \\\n",
       "212  2020   YR2020             Singapore         SGP                 100.0   \n",
       "147  2020   YR2020      Macao SAR, China         MAC                 100.0   \n",
       "40   2020   YR2020        Cayman Islands         CYM                 100.0   \n",
       "90   2020   YR2020             Gibraltar         GIB                 100.0   \n",
       "103  2020   YR2020  Hong Kong SAR, China         HKG                 100.0   \n",
       "\n",
       "        countryname_upper  \n",
       "212             SINGAPORE  \n",
       "147      MACAO SAR, CHINA  \n",
       "40         CAYMAN ISLANDS  \n",
       "90              GIBRALTAR  \n",
       "103  HONG KONG SAR, CHINA  "
      ]
     },
     "metadata": {},
     "output_type": "display_data"
    }
   ],
   "source": [
    "# Write your code here\n",
    "wdi_sorted = wdi2020.sort_values(by = \"prop_urbanpopulation\", ascending = False)\n",
    "display(wdi_sorted.iloc[0:5,:])"
   ]
  },
  {
   "attachments": {},
   "cell_type": "markdown",
   "metadata": {},
   "source": [
    "<font size = \"5\">\n",
    "\n",
    "(d) Subset elements with query\n",
    "\n",
    "<font size = \"3\">\n",
    "\n",
    "- Compute the median of \"prop_urbanpopulation\"\n",
    "- Use \".query()\" to subset countries with <br>\n",
    " \"prop_urbanpopulation\" above the median"
   ]
  },
  {
   "cell_type": "code",
   "execution_count": 16,
   "metadata": {},
   "outputs": [
    {
     "name": "stdout",
     "output_type": "stream",
     "text": [
      "     year yearcode            countryname countrycode  prop_urbanpopulation  \\\n",
      "3    2020   YR2020                Albania         ALB             62.112000   \n",
      "4    2020   YR2020                Algeria         DZA             73.733000   \n",
      "5    2020   YR2020         American Samoa         ASM             87.153000   \n",
      "6    2020   YR2020                Andorra         AND             87.916000   \n",
      "7    2020   YR2020                 Angola         AGO             66.825000   \n",
      "..    ...      ...                    ...         ...                   ...   \n",
      "254  2020   YR2020    Upper middle income         UMC             67.601442   \n",
      "255  2020   YR2020                Uruguay         URY             95.515000   \n",
      "258  2020   YR2020          Venezuela, RB         VEN             88.279000   \n",
      "260  2020   YR2020  Virgin Islands (U.S.)         VIR             95.939000   \n",
      "261  2020   YR2020     West Bank and Gaza         PSE             76.719000   \n",
      "\n",
      "         countryname_upper  \n",
      "3                  ALBANIA  \n",
      "4                  ALGERIA  \n",
      "5           AMERICAN SAMOA  \n",
      "6                  ANDORRA  \n",
      "7                   ANGOLA  \n",
      "..                     ...  \n",
      "254    UPPER MIDDLE INCOME  \n",
      "255                URUGUAY  \n",
      "258          VENEZUELA, RB  \n",
      "260  VIRGIN ISLANDS (U.S.)  \n",
      "261     WEST BANK AND GAZA  \n",
      "\n",
      "[131 rows x 6 columns]\n"
     ]
    }
   ],
   "source": [
    "# Write your own code here\n",
    "med = wdi2020['prop_urbanpopulation'].median()\n",
    "print(wdi2020.query(\"prop_urbanpopulation > @med\"))"
   ]
  },
  {
   "attachments": {},
   "cell_type": "markdown",
   "metadata": {},
   "source": [
    "<font size = \"5\">\n",
    "\n",
    "(e) Plot by category\n",
    "\n",
    "<font size = \"3\">\n",
    "\n",
    "- Read \"data/wdi_urban.csv\"<br>\n",
    "This contains data from 1980 and 2020\n",
    "\n",
    "- Create a list with the unique values of \"year\"\n",
    "- Create a plot with a ...\n",
    "    - Histogram of \"prop_urbanpopulation\" <br>\n",
    "    for each year\n",
    "    - Set the histogram option ``` alpha = 0.5 ``` for transparency\n",
    "    - All the histograms should be overlapping\n",
    "    - Create a legend with the list of years\n",
    "    - Label the axes and the title\n",
    "\n",
    "What do we learn from the graph?\n",
    "\n",
    "HINT: See the example at the end of Lecture 10\n"
   ]
  },
  {
   "cell_type": "code",
   "execution_count": 17,
   "metadata": {},
   "outputs": [
    {
     "data": {
      "text/plain": [
       "<matplotlib.legend.Legend at 0x7f8739b37af0>"
      ]
     },
     "execution_count": 17,
     "metadata": {},
     "output_type": "execute_result"
    },
    {
     "data": {
      "image/png": "[encoded data removed]",
      "text/plain": [
       "<Figure size 640x480 with 1 Axes>"
      ]
     },
     "metadata": {},
     "output_type": "display_data"
    }
   ],
   "source": [
    "# Write your own code here\n",
    "wdiurban = pd.read_csv('data/wdi_urban.csv')\n",
    "years_list = pd.unique(wdiurban[\"year\"])\n",
    "for year_value in years_list:\n",
    "    temp = wdiurban.query(\"year == @year_value\")\n",
    "    plt.hist(temp[\"prop_urbanpopulation\"], alpha = 0.5)\n",
    "\n",
    "plt.legend(labels = years_list)"
   ]
  },
  {
   "attachments": {},
   "cell_type": "markdown",
   "metadata": {},
   "source": [
    "<font size = \"3\">\n",
    "\n",
    "From this graph we learn that the overall urban population in the world has increased from 1980 to 2020."
   ]
  }
 ],
 "metadata": {
  "kernelspec": {
   "display_name": "base",
   "language": "python",
   "name": "python3"
  },
  "language_info": {
   "codemirror_mode": {
    "name": "ipython",
    "version": 3
   },
   "file_extension": ".py",
   "mimetype": "text/x-python",
   "name": "python",
   "nbconvert_exporter": "python",
   "pygments_lexer": "ipython3",
   "version": "3.9.13"
  },
  "orig_nbformat": 4,
  "vscode": {
   "interpreter": {
    "hash": "cbc06eee546c5bef8b719b690884cb89fc9190b8c1133ab90fbc9b4e0f95ff40"
   }
  }
 },
 "nbformat": 4,
 "nbformat_minor": 2
}
